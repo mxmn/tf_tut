{
 "cells": [
  {
   "cell_type": "markdown",
   "metadata": {},
   "source": [
    "## Approach 1 - Continue a simple sequence of disrete spikes\n",
    "\n",
    "**Problem**: Given a sequence with specific repetitivity (discrete), learn to continue it.\n",
    "\n",
    "**This notebook is only for discrete classification-type problems**\n",
    "\n",
    "1. Simple combination of two sequences, with different repeat intervals:\n",
    "```\n",
    "    x = 1 if x%p1==0 or x%p2==0 else 0\n",
    "```    \n",
    "1. Sum of sequences:\n",
    "```\n",
    "    x = x%p1==0 + x%p2==0 + x%p3==0`\n",
    "```\n",
    "1. Real-valued floats:\n",
    "```\n",
    "    x = sin(t)\n",
    "```\n",
    "1. Distribution of peridicities\n",
    "    - Probability increases at around the periodicity\n",
    "1. Input vectors:\n",
    "```\n",
    "    x = [x1, x2, x3] where x1=sin(t)  x2=t  x3= t%p1 == 0`\n",
    "````\n",
    "1. Something else"
   ]
  },
  {
   "cell_type": "code",
   "execution_count": 1,
   "metadata": {
    "collapsed": false
   },
   "outputs": [
    {
     "name": "stdout",
     "output_type": "stream",
     "text": [
      "Populating the interactive namespace from numpy and matplotlib\n"
     ]
    }
   ],
   "source": [
    "from __future__ import absolute_import, division, print_function\n",
    "import os, time\n",
    "import numpy as np\n",
    "import pandas as pd\n",
    "import tensorflow as tf\n",
    "from tqdm import tnrange, tqdm_notebook\n",
    "\n",
    "HOME = os.environ['HOME']\n",
    "os.chdir(HOME+\"/ninja/mxn/src/MxnVentures\")\n",
    "from mxn_ventures import utils\n",
    "\n",
    "%pylab inline\n",
    "%load_ext autoreload\n",
    "%autoreload 2"
   ]
  },
  {
   "cell_type": "markdown",
   "metadata": {},
   "source": [
    "#### Data Models"
   ]
  },
  {
   "cell_type": "code",
   "execution_count": 83,
   "metadata": {
    "collapsed": false
   },
   "outputs": [],
   "source": [
    "x,y = gen_data2()"
   ]
  },
  {
   "cell_type": "code",
   "execution_count": 84,
   "metadata": {
    "collapsed": false
   },
   "outputs": [
    {
     "data": {
      "text/plain": [
       "array([2, 0, 0, 0, 1, 0, 0, 1, 1, 0, 0, 0, 1, 0, 1, 0, 1, 0, 0, 0, 1, 1, 0,\n",
       "       0, 1, 0, 0, 0, 2, 0, 0, 0, 1, 0, 0, 1, 1, 0, 0, 0, 1, 0, 1, 0, 1, 0,\n",
       "       0, 0, 1, 1, 0, 0, 1, 0, 0, 0, 2, 0, 0, 0, 1, 0, 0, 1, 1, 0, 0, 0, 1,\n",
       "       0, 1, 0, 1, 0, 0, 0, 1, 1, 0, 0, 1, 0, 0, 0, 2, 0, 0, 0, 1, 0, 0, 1,\n",
       "       1, 0, 0, 0, 1, 0, 1, 0, 1, 0, 0, 0, 1, 1, 0, 0, 1, 0, 0, 0, 2, 0, 0,\n",
       "       0, 1, 0, 0, 1, 1, 0, 0, 0, 1, 0, 1, 0, 1, 0, 0, 0, 1, 1, 0, 0, 1, 0,\n",
       "       0, 0, 2, 0, 0, 0, 1, 0, 0, 1, 1, 0, 0, 0, 1, 0, 1, 0, 1, 0, 0, 0, 1,\n",
       "       1, 0, 0, 1, 0, 0, 0, 2, 0, 0, 0, 1, 0, 0, 1, 1, 0, 0, 0, 1, 0, 1, 0,\n",
       "       1, 0, 0, 0, 1, 1, 0, 0, 1, 0, 0, 0, 2, 0, 0, 0])"
      ]
     },
     "execution_count": 84,
     "metadata": {},
     "output_type": "execute_result"
    }
   ],
   "source": [
    "x[:200]"
   ]
  },
  {
   "cell_type": "code",
   "execution_count": 82,
   "metadata": {
    "collapsed": true
   },
   "outputs": [],
   "source": [
    "def gen_data1(size=1000000):\n",
    "    p1 = 4\n",
    "    p2 = 7\n",
    "    #x = np.array([t%p1==0 or t%p2==0 for t in range(size+1)]).astype(np.float32)\n",
    "    x = np.array([t%p1==0 or t%p2==0 for t in range(size+1)])\n",
    "    y = x[1:]\n",
    "    x = x[:-1]\n",
    "    return x, y\n",
    "def gen_data2(size=1000000):\n",
    "    p1 = 4\n",
    "    p2 = 7\n",
    "    p3 = 5\n",
    "    #x = np.array([t%p1==0 or t%p2==0 for t in range(size+1)]).astype(np.float32)\n",
    "    #x = np.array([[t%p1==0, t%p2==0, t%p3==0] for t in range(size+1)]).sum(axis=1)\n",
    "    x = np.array([[t%p1==0, t%p2==0] for t in range(size+1)]).sum(axis=1)\n",
    "    y = x[1:]\n",
    "    x = x[:-1]\n",
    "    return x, y\n",
    "def gen_data3(size=1000000):\n",
    "    p1 = 4\n",
    "    p2 = 7\n",
    "    #x = np.array([t%p1==0 or t%p2==0 for t in range(size+1)]).astype(np.float32)\n",
    "    x = np.array([t%p1==0 or t%p2==0 for t in range(size+1)])\n",
    "    y = x[1:]\n",
    "    x = x[:-1]\n",
    "    return x, y"
   ]
  },
  {
   "cell_type": "markdown",
   "metadata": {},
   "source": [
    "### Config"
   ]
  },
  {
   "cell_type": "markdown",
   "metadata": {},
   "source": [
    "#### Data Model 1"
   ]
  },
  {
   "cell_type": "code",
   "execution_count": 53,
   "metadata": {
    "collapsed": true
   },
   "outputs": [],
   "source": [
    "# Global config variables\n",
    "num_steps = 15 # 5 # number of truncated backprop steps ('n' in the discussion above)\n",
    "batch_size = 100\n",
    "#batch_size = 500\n",
    "num_classes = 2\n",
    "state_size = 8\n",
    "learning_rate = 0.1\n",
    "learning_rate = 0.2\n",
    "data_model = gen_data1"
   ]
  },
  {
   "cell_type": "markdown",
   "metadata": {},
   "source": [
    "##### Data Model 2"
   ]
  },
  {
   "cell_type": "code",
   "execution_count": 91,
   "metadata": {
    "collapsed": true
   },
   "outputs": [],
   "source": [
    "# Global config variables\n",
    "num_steps = 10 # 5 # number of truncated backprop steps ('n' in the discussion above)\n",
    "batch_size = 100\n",
    "#batch_size = 500\n",
    "num_classes = 3\n",
    "state_size = 8\n",
    "learning_rate = 0.1\n",
    "learning_rate = 0.2\n",
    "data_model = gen_data2"
   ]
  },
  {
   "cell_type": "markdown",
   "metadata": {},
   "source": [
    "#### Generate Data"
   ]
  },
  {
   "cell_type": "code",
   "execution_count": 92,
   "metadata": {
    "collapsed": true
   },
   "outputs": [],
   "source": [
    "# adapted from https://github.com/tensorflow/tensorflow/blob/master/tensorflow/models/rnn/ptb/reader.py\n",
    "def gen_batch(raw_data, batch_size, num_steps):\n",
    "    raw_x, raw_y = raw_data\n",
    "    data_length = len(raw_x)\n",
    "\n",
    "    # partition raw data into batches and stack them vertically in a data matrix\n",
    "    batch_partition_length = data_length // batch_size\n",
    "    data_x = np.zeros([batch_size, batch_partition_length], dtype=np.int32)\n",
    "    data_y = np.zeros([batch_size, batch_partition_length], dtype=np.int32)\n",
    "    for i in range(batch_size):\n",
    "        data_x[i] = raw_x[batch_partition_length * i:batch_partition_length * (i + 1)]\n",
    "        data_y[i] = raw_y[batch_partition_length * i:batch_partition_length * (i + 1)]\n",
    "    # further divide batch partitions into num_steps for truncated backprop\n",
    "    epoch_size = batch_partition_length // num_steps\n",
    "\n",
    "    for i in range(epoch_size):\n",
    "        x = data_x[:, i * num_steps:(i + 1) * num_steps]\n",
    "        y = data_y[:, i * num_steps:(i + 1) * num_steps]\n",
    "        yield (x, y)\n",
    "\n",
    "def gen_epochs(n, num_steps, batch_size=200, model_func=gen_data1):\n",
    "    for i in range(n):\n",
    "        yield gen_batch(model_func(), batch_size, num_steps)"
   ]
  },
  {
   "cell_type": "markdown",
   "metadata": {},
   "source": [
    "#### Model"
   ]
  },
  {
   "cell_type": "code",
   "execution_count": 93,
   "metadata": {
    "collapsed": true
   },
   "outputs": [],
   "source": [
    "tf.reset_default_graph()"
   ]
  },
  {
   "cell_type": "code",
   "execution_count": 94,
   "metadata": {
    "collapsed": false,
    "scrolled": false
   },
   "outputs": [
    {
     "name": "stdout",
     "output_type": "stream",
     "text": [
      "CPU times: user 378 ms, sys: 3.51 ms, total: 381 ms\n",
      "Wall time: 392 ms\n"
     ]
    }
   ],
   "source": [
    "%%time\n",
    "### Placeholders\n",
    "x = tf.placeholder(tf.int32, [batch_size, num_steps], name='input_placeholder')\n",
    "y = tf.placeholder(tf.int32, [batch_size, num_steps], name='labels_placeholder')\n",
    "init_state = tf.zeros([batch_size, state_size])\n",
    "\n",
    "### Inputs\n",
    "x_one_hot = tf.one_hot(x, num_classes)\n",
    "rnn_inputs = tf.unpack(x_one_hot, axis=1)\n",
    "\n",
    "### RNN\n",
    "cell = tf.nn.rnn_cell.BasicRNNCell(state_size)\n",
    "rnn_outputs, final_state = tf.nn.rnn(cell, rnn_inputs, initial_state=init_state)\n",
    "\n",
    "### Predictions, loss, training step\n",
    "with tf.variable_scope('softmax'):\n",
    "    W = tf.get_variable('W', [state_size, num_classes])\n",
    "    b = tf.get_variable('b', [num_classes], initializer=tf.constant_initializer(0.0))\n",
    "logits = [tf.matmul(rnn_output, W) + b for rnn_output in rnn_outputs]\n",
    "predictions = [tf.nn.softmax(logit) for logit in logits]\n",
    "\n",
    "y_as_list = [tf.squeeze(i, squeeze_dims=[1]) for i in tf.split(1, num_steps, y)]\n",
    "\n",
    "loss_weights = [tf.ones([batch_size]) for i in range(num_steps)]\n",
    "losses = tf.nn.seq2seq.sequence_loss_by_example(logits, y_as_list, loss_weights)\n",
    "total_loss = tf.reduce_mean(losses)\n",
    "train_step = tf.train.AdagradOptimizer(learning_rate).minimize(total_loss)"
   ]
  },
  {
   "cell_type": "markdown",
   "metadata": {},
   "source": [
    "#### Training"
   ]
  },
  {
   "cell_type": "code",
   "execution_count": 97,
   "metadata": {
    "collapsed": false
   },
   "outputs": [],
   "source": [
    "def train_network(num_epochs, num_steps, state_size=4, verbose=True, data_model_func=data_model):\n",
    "    with tf.Session() as sess:\n",
    "        sess.run(tf.initialize_all_variables())\n",
    "        training_losses = []\n",
    "        for idx, epoch in enumerate(gen_epochs(num_epochs, num_steps, batch_size, model_func=data_model_func)):\n",
    "            training_loss = 0\n",
    "            training_state = np.zeros((batch_size, state_size))\n",
    "            if verbose:\n",
    "                print(\"\\nEPOCH\", idx)\n",
    "            for step, (X, Y) in enumerate(epoch):\n",
    "                tr_losses, training_loss_, training_state, _ = sess.run(\n",
    "                    [losses, total_loss, final_state, train_step],\n",
    "                    feed_dict={x:X, y:Y, init_state:training_state})\n",
    "                training_loss += training_loss_\n",
    "                if step % 100 == 0 and step > 0:\n",
    "                    if verbose:\n",
    "                        print(\"Average loss at step\", step,\n",
    "                              \"for last 250 steps:\", training_loss/100)\n",
    "                    training_losses.append(training_loss/100)\n",
    "                    training_loss = 0\n",
    "    return training_losses"
   ]
  },
  {
   "cell_type": "code",
   "execution_count": 96,
   "metadata": {
    "collapsed": false,
    "scrolled": false
   },
   "outputs": [
    {
     "name": "stdout",
     "output_type": "stream",
     "text": [
      "\n",
      "EPOCH 0\n",
      "Average loss at step 100 for last 250 steps: 0.488559497893\n",
      "Average loss at step 200 for last 250 steps: 0.194855508655\n",
      "Average loss at step 300 for last 250 steps: 0.0652694797516\n",
      "Average loss at step 400 for last 250 steps: 0.0274856968597\n",
      "Average loss at step 500 for last 250 steps: 0.00988710547797\n",
      "Average loss at step 600 for last 250 steps: 0.00668144829571\n",
      "Average loss at step 700 for last 250 steps: 0.00529351182748\n",
      "Average loss at step 800 for last 250 steps: 0.00390176885994\n",
      "Average loss at step 900 for last 250 steps: 0.00320929752896\n",
      "\n",
      "EPOCH 1\n",
      "Average loss at step 100 for last 250 steps: 0.206870537307\n",
      "Average loss at step 200 for last 250 steps: 0.0150448481739\n",
      "Average loss at step 300 for last 250 steps: 0.00768254420254\n",
      "Average loss at step 400 for last 250 steps: 0.00532406964805\n",
      "Average loss at step 500 for last 250 steps: 0.00410120113054\n",
      "Average loss at step 600 for last 250 steps: 0.00333536230028\n",
      "Average loss at step 700 for last 250 steps: 0.00281763237203\n",
      "Average loss at step 800 for last 250 steps: 0.00244860411156\n",
      "Average loss at step 900 for last 250 steps: 0.00217157749576\n",
      "\n",
      "EPOCH 2\n",
      "Average loss at step 100 for last 250 steps: 0.0538304792275\n",
      "Average loss at step 200 for last 250 steps: 0.00260702151107\n",
      "Average loss at step 300 for last 250 steps: 0.00219596053706\n",
      "Average loss at step 400 for last 250 steps: 0.00193903181585\n",
      "Average loss at step 500 for last 250 steps: 0.00174954922404\n",
      "Average loss at step 600 for last 250 steps: 0.00159848525072\n",
      "Average loss at step 700 for last 250 steps: 0.00147276709089\n",
      "Average loss at step 800 for last 250 steps: 0.00136542162509\n",
      "Average loss at step 900 for last 250 steps: 0.00127239111462\n"
     ]
    },
    {
     "data": {
      "text/plain": [
       "[<matplotlib.lines.Line2D at 0x109bd0240>]"
      ]
     },
     "execution_count": 96,
     "metadata": {},
     "output_type": "execute_result"
    },
    {
     "data": {
      "image/png": "[encoded data removed]",
      "text/plain": [
       "<matplotlib.figure.Figure at 0x11a091278>"
      ]
     },
     "metadata": {},
     "output_type": "display_data"
    }
   ],
   "source": [
    "training_losses = train_network(3, num_steps, state_size=state_size, data_model_func=data_model)\n",
    "plt.plot(training_losses)"
   ]
  },
  {
   "cell_type": "code",
   "execution_count": null,
   "metadata": {
    "collapsed": true
   },
   "outputs": [],
   "source": []
  }
 ],
 "metadata": {
  "anaconda-cloud": {},
  "kernelspec": {
   "display_name": "Python [conda env:py35]",
   "language": "python",
   "name": "conda-env-py35-py"
  },
  "language_info": {
   "codemirror_mode": {
    "name": "ipython",
    "version": 3
   },
   "file_extension": ".py",
   "mimetype": "text/x-python",
   "name": "python",
   "nbconvert_exporter": "python",
   "pygments_lexer": "ipython3",
   "version": "3.5.2"
  },
  "nav_menu": {},
  "toc": {
   "navigate_menu": true,
   "number_sections": true,
   "sideBar": true,
   "threshold": 6,
   "toc_cell": false,
   "toc_section_display": "block",
   "toc_window_display": true
  }
 },
 "nbformat": 4,
 "nbformat_minor": 1
}
