{
 "cells": [
  {
   "cell_type": "markdown",
   "metadata": {},
   "source": [
    "# Simple Example (MNIST) with TensorBoard\n",
    "Sources:\n",
    "- Simple example: https://ischlag.github.io/2016/06/03/simple-neural-network-in-tensorflow/\n",
    "- Using TensorBoard and SummaryWriter: https://ischlag.github.io/2016/06/04/how-to-use-tensorboard/\n",
    "- and http://blog.altoros.com/visualizing-tensorflow-graphs-with-tensorboard.html\n",
    "\n",
    "### After executing these cells, launch tensorboard:\n",
    "```\n",
    "tensorboard --logdir=$HOME/data/tf_tut/mnist/logs\n",
    "```\n",
    "### And go the local url\n",
    "Note: on my Mac, I was not able to load the mentioned page `http://192.168.1.6:6006`, but using localhost worked:\n",
    "- http://localhost:6006/\n",
    "\n",
    "### In Summary\n",
    "- TensorBoard works with TensorFlow events files to visualize a graph and information related to its execution. \n",
    "- To generate and add log data to the TensorBoard, use the TensorFlow summary operations and the SummaryWriter. "
   ]
  },
  {
   "cell_type": "code",
   "execution_count": 1,
   "metadata": {
    "collapsed": true
   },
   "outputs": [],
   "source": [
    "import os, sys\n",
    "import tensorflow as tf"
   ]
  },
  {
   "cell_type": "markdown",
   "metadata": {},
   "source": [
    "MNIST is a simple classification into 10 classes (the 10 numbers)"
   ]
  },
  {
   "cell_type": "code",
   "execution_count": 2,
   "metadata": {
    "collapsed": false
   },
   "outputs": [
    {
     "name": "stdout",
     "output_type": "stream",
     "text": [
      "Extracting /Users/maximn/data/tf_tut/mnist/MNIST_data/train-images-idx3-ubyte.gz\n",
      "Extracting /Users/maximn/data/tf_tut/mnist/MNIST_data/train-labels-idx1-ubyte.gz\n",
      "Extracting /Users/maximn/data/tf_tut/mnist/MNIST_data/t10k-images-idx3-ubyte.gz\n",
      "Extracting /Users/maximn/data/tf_tut/mnist/MNIST_data/t10k-labels-idx1-ubyte.gz\n"
     ]
    }
   ],
   "source": [
    "from tensorflow.examples.tutorials.mnist import input_data\n",
    "HOME = os.environ['HOME']\n",
    "dpath = HOME + \"/data/tf_tut/mnist/MNIST_data\"\n",
    "mnist = input_data.read_data_sets(dpath, one_hot=True)"
   ]
  },
  {
   "cell_type": "markdown",
   "metadata": {},
   "source": [
    "Let's initialize the SummaryWriter\n"
   ]
  },
  {
   "cell_type": "code",
   "execution_count": 3,
   "metadata": {
    "collapsed": true
   },
   "outputs": [],
   "source": [
    "log_path = dpath + \"/../logs\""
   ]
  },
  {
   "cell_type": "code",
   "execution_count": 4,
   "metadata": {
    "collapsed": true
   },
   "outputs": [],
   "source": [
    "# config\n",
    "batch_size = 100\n",
    "learning_rate = 0.01\n",
    "training_epochs = 10"
   ]
  },
  {
   "cell_type": "markdown",
   "metadata": {},
   "source": [
    "Provide name-scope and variable names for easier visualization with TensorBoard"
   ]
  },
  {
   "cell_type": "code",
   "execution_count": 5,
   "metadata": {
    "collapsed": true
   },
   "outputs": [],
   "source": [
    "with tf.name_scope('input'):\n",
    "    # None -> batch size can be any size, 784 -> flattened mnist image\n",
    "    x = tf.placeholder(tf.float32, shape=[None, 784], name=\"x-input\") \n",
    "    # target 10 output classes\n",
    "    y_ = tf.placeholder(tf.float32, shape=[None, 10], name=\"y-input\")\n",
    "\n",
    "# None -> batch size can be any size, 784 -> flattened mnist image\n",
    "#x = tf.placeholder(tf.float32, shape=[None, 784]) \n",
    "# target 10 output classes\n",
    "#y_ = tf.placeholder(tf.float32, shape=[None, 10])"
   ]
  },
  {
   "cell_type": "markdown",
   "metadata": {},
   "source": [
    "A variable in tensorflow is a value which can change. Usually, this corresponds to the parameters of the model we are going to train. In this case, the weights are according to the weight matrix of a neural network and the biases of each neurone. The shape of these variables corresponds to the size of our network.\n",
    "\n"
   ]
  },
  {
   "cell_type": "code",
   "execution_count": 6,
   "metadata": {
    "collapsed": true
   },
   "outputs": [],
   "source": [
    "# model parameters will change during training so we use tf.Variable\n",
    "with tf.name_scope(\"weights\"):\n",
    "    W = tf.Variable(tf.zeros([784, 10]))\n",
    "# bias\n",
    "with tf.name_scope(\"biases\"):\n",
    "    b = tf.Variable(tf.zeros([10]))"
   ]
  },
  {
   "cell_type": "markdown",
   "metadata": {},
   "source": [
    "Super simple model with no hidden layer, with only a softmax for the 10 classes"
   ]
  },
  {
   "cell_type": "code",
   "execution_count": 7,
   "metadata": {
    "collapsed": true
   },
   "outputs": [],
   "source": [
    "# y is our prediction\n",
    "with tf.name_scope(\"softmax\"):\n",
    "    y = tf.nn.softmax(tf.matmul(x,W) + b)"
   ]
  },
  {
   "cell_type": "markdown",
   "metadata": {},
   "source": [
    "Using cross entropy as the cost function"
   ]
  },
  {
   "cell_type": "code",
   "execution_count": 8,
   "metadata": {
    "collapsed": true
   },
   "outputs": [],
   "source": [
    "with tf.name_scope('cross_entropy'):\n",
    "    cross_entropy = tf.reduce_mean(-tf.reduce_sum(y_ * tf.log(y), reduction_indices=[1]))"
   ]
  },
  {
   "cell_type": "markdown",
   "metadata": {},
   "source": [
    "Predictions"
   ]
  },
  {
   "cell_type": "code",
   "execution_count": 9,
   "metadata": {
    "collapsed": true
   },
   "outputs": [],
   "source": [
    "with tf.name_scope('Accuracy'):\n",
    "    correct_prediction = tf.equal(tf.argmax(y,1), tf.argmax(y_,1))\n",
    "    accuracy = tf.reduce_mean(tf.cast(correct_prediction, tf.float32))"
   ]
  },
  {
   "cell_type": "markdown",
   "metadata": {},
   "source": [
    "Optimizer operation\n",
    "- tf has multiple optimizers, we'll use GD for now"
   ]
  },
  {
   "cell_type": "code",
   "execution_count": 10,
   "metadata": {
    "collapsed": true
   },
   "outputs": [],
   "source": [
    "with tf.name_scope('train'):\n",
    "    train_op = tf.train.GradientDescentOptimizer(learning_rate).minimize(cross_entropy) "
   ]
  },
  {
   "cell_type": "code",
   "execution_count": 11,
   "metadata": {
    "collapsed": false
   },
   "outputs": [],
   "source": [
    "# create a summary for our cost and accuracy\n",
    "tf.scalar_summary(\"cost\", cross_entropy)\n",
    "tf.scalar_summary(\"accuracy\", accuracy)\n",
    "\n",
    "w_h = tf.histogram_summary(\"weights\", W)\n",
    "b_h = tf.histogram_summary(\"biases\", b)\n",
    "\n",
    "# merge all summaries into a single \"operation\" which we can execute in a session \n",
    "summary_op = tf.merge_all_summaries()"
   ]
  },
  {
   "cell_type": "markdown",
   "metadata": {},
   "source": []
  },
  {
   "cell_type": "code",
   "execution_count": 12,
   "metadata": {
    "collapsed": false
   },
   "outputs": [
    {
     "name": "stdout",
     "output_type": "stream",
     "text": [
      "Epoch:  0\n",
      "Epoch:  2\n",
      "Epoch:  4\n",
      "Epoch:  6\n",
      "Epoch:  8\n",
      "Accuracy:  0.9026\n",
      "done\n"
     ]
    }
   ],
   "source": [
    "with tf.Session() as sess:\n",
    "    # variables need to be initialized before we can use them\n",
    "    sess.run(tf.initialize_all_variables())\n",
    "    \n",
    "    # create log writer object\n",
    "    writer = tf.train.SummaryWriter(log_path, graph=tf.get_default_graph())\n",
    "    \n",
    "    for epoch in range(training_epochs):\n",
    "        # number of batches in one epoch\n",
    "        batch_count = int(mnist.train.num_examples / batch_size)\n",
    "        for i in range(batch_count):\n",
    "            batch_x, batch_y = mnist.train.next_batch(batch_size)\n",
    "            \n",
    "            # sess.run([train_op], feed_dict={x: batch_x, y_: batch_y})\n",
    "            # perform the operations we defined earlier on batch\n",
    "            _, summary = sess.run([train_op, summary_op], feed_dict={x: batch_x, y_: batch_y})\n",
    "            \n",
    "            # write operations summary for each iteration\n",
    "            writer.add_summary(summary, epoch * batch_count + i)\n",
    "\n",
    "        if epoch % 2 == 0: \n",
    "            print(\"Epoch: \", epoch )\n",
    "    print(\"Accuracy: \", accuracy.eval(feed_dict={x: mnist.test.images, y_: mnist.test.labels}))\n",
    "    print(\"done\"            )"
   ]
  },
  {
   "cell_type": "code",
   "execution_count": null,
   "metadata": {
    "collapsed": true
   },
   "outputs": [],
   "source": []
  }
 ],
 "metadata": {
  "anaconda-cloud": {},
  "kernelspec": {
   "display_name": "Python [conda env:py35]",
   "language": "python",
   "name": "conda-env-py35-py"
  },
  "language_info": {
   "codemirror_mode": {
    "name": "ipython",
    "version": 3
   },
   "file_extension": ".py",
   "mimetype": "text/x-python",
   "name": "python",
   "nbconvert_exporter": "python",
   "pygments_lexer": "ipython3",
   "version": "3.5.2"
  },
  "nav_menu": {},
  "toc": {
   "navigate_menu": true,
   "number_sections": true,
   "sideBar": true,
   "threshold": 6,
   "toc_cell": false,
   "toc_section_display": "block",
   "toc_window_display": false
  }
 },
 "nbformat": 4,
 "nbformat_minor": 1
}
